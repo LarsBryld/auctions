{
  "nbformat": 4,
  "nbformat_minor": 0,
  "metadata": {
    "colab": {
      "name": "nbview.ipynb",
      "provenance": []
    },
    "kernelspec": {
      "name": "python3",
      "display_name": "Python 3"
    }
  },
  "cells": [
    {
      "cell_type": "code",
      "metadata": {
        "id": "MwM7Tu98h6hG"
      },
      "source": [
        "import pandas as pd\r\n",
        "import numpy as np\r\n",
        "\r\n",
        "\r\n",
        "rfq = pd.read_csv('https://raw.githubusercontent.com/LarsBryld/auctions/master/bfm492D.csv', sep=',', parse_dates=True, dayfirst=False, skiprows=2)\r\n"
      ],
      "execution_count": null,
      "outputs": []
    },
    {
      "cell_type": "code",
      "metadata": {
        "id": "xWEIJcJJkCSH"
      },
      "source": [
        "# Creating \r\n",
        "rfq['Second'] = pd.DatetimeIndex(rfq['Exec Time']).second\r\n",
        "rfq['Minute'] = pd.DatetimeIndex(rfq['Exec Time']).minute\r\n",
        "rfq['Hour'] = pd.DatetimeIndex(rfq['Exec Time']).hour\r\n",
        "rfq['Day'] = pd.DatetimeIndex(rfq['Trade Dt']).day\r\n",
        "rfq['Month'] = pd.DatetimeIndex(rfq['Trade Dt']).month\r\n",
        "rfq['Year'] = pd.DatetimeIndex(rfq['Trade Dt']).year  \r\n",
        "rfq['Source'] = 'RFQ'\r\n",
        "\r\n",
        "# Creating date variable used for plotting\r\n",
        "rfq['Date'] = pd.to_datetime(rfq['Trade Dt'], format='%d/%m/%Y')\r\n",
        "rfq['WeekDay'] = rfq['Date'].dt.day_name()\r\n",
        "rfq['MonthName'] = rfq['Date'].dt.month_name()\r\n",
        "\r\n",
        "#Calculating days to maturity and rounding result \r\n",
        "rfq['Maturity'] = (pd.to_datetime(rfq['Mat Dt'], format='%d/%m/%Y') - rfq['Date']) / np.timedelta64(1,'D') / 365\r\n",
        "rfq['Maturity'] = rfq['Maturity'].round(1)\r\n",
        "\r\n",
        "import plotly.express as px\r\n",
        "\r\n",
        "import plotly.io as pio\r\n",
        "pio.renderers.default = 'colab'\r\n",
        "\r\n",
        "#import plotly.graph_objects as go\r\n",
        "#fig = go.Figure(data=go.Bar(y=[2, 3, 1]))\r\n",
        "#fig.show()\r\n",
        "\r\n",
        "\r\n",
        "#Create inverted price measure \r\n",
        "rfq.loc[rfq['Side'] == 'B', 'PriceDiff'] = (rfq['CBBT Mid Prc'] - rfq['Price']) \r\n",
        "rfq.loc[rfq['Side'] == 'S', 'PriceDiff'] = (rfq['Price'] - rfq['CBBT Mid Prc'])\r\n",
        "\r\n",
        "\r\n",
        "# Create inverted price dummy \r\n",
        "rfq.loc[rfq['PriceDiff'] < 0, 'PriceDiffDummy'] = 'Inverted'\r\n",
        "rfq.loc[rfq['PriceDiff'] > 0, 'PriceDiffDummy'] = 'Non-Inverted'\r\n",
        "rfq.loc[rfq['PriceDiff'] == 0, 'PriceDiffDummy'] = 'Non-Inverted'\r\n",
        "\r\n",
        "\r\n",
        "# away from mid volume  \r\n",
        "rfq.loc[rfq['PriceDiffDummy'] == 1, 'VolumenAwayFromMid'] = (rfq['Quantity'] * rfq['PriceDiff'] * 1)\r\n",
        "rfq.loc[rfq['PriceDiffDummy'] == 0, 'VolumenAwayFromMid'] = (rfq['Quantity'] * rfq['PriceDiff'] * 1)\r\n",
        "\r\n",
        "rfq.loc[rfq['Status'].isin(['AllocSent', 'Accepted', 'AllocSave', 'AllocAcpt']), 'Status2'] = ('Accepted')\r\n",
        "rfq.loc[rfq['Status'].isin(['Tie-TW', 'Covered']), 'Status2'] = ('Covered')\r\n",
        "rfq.loc[rfq['Status'].isin(['TrAway', 'Passed', 'C/Expire', 'D/Expire', 'Rejected', 'Corrected', 'Cancel', 'C/Cancel', 'AllocCanc']), 'Status2'] = ('TrAway')\r\n",
        "\r\n",
        "\r\n",
        "rfq = rfq[rfq['TS Book Name'].isin(['STAT', 'FLEX', 'REAL', 'ILLIKVID', 'FLOAT', 'INFLATIO'])]"
      ],
      "execution_count": null,
      "outputs": []
    },
    {
      "cell_type": "code",
      "metadata": {
        "colab": {
          "base_uri": "https://localhost:8080/"
        },
        "id": "a3YE7yP4kSy8",
        "outputId": "11f193cd-060e-4648-ce4b-5405349ad549"
      },
      "source": [
        "#removing Perp bonds from Data set\r\n",
        "rfq = rfq[rfq['Maturity'] < 100]\r\n",
        "\r\n",
        "#removing Perp bonds from Data set\r\n",
        "rfq = rfq[rfq['Yield'] < 100 ]\r\n",
        "\r\n",
        "#removing bonds from Data set with price > 200 \r\n",
        "rfq = rfq[rfq['Price'] < 200 ]\r\n",
        "\r\n",
        "rfq = rfq[rfq['PriceDiff'] < 9 ]\r\n",
        "\r\n",
        "\r\n",
        "#Reducing the rfq df to be of one year dimension\r\n",
        "rfq = rfq[rfq['Date']> max(rfq['Date']) - pd.DateOffset(years=1)]\r\n",
        "\r\n",
        "\r\n",
        "#changing nan in dls comp to zeros\r\n",
        "rfq['DlrsCmp'].fillna(0, inplace=True)\r\n",
        "\r\n",
        "real = rfq[rfq['TS Book Name'] == 'REAL']"
      ],
      "execution_count": null,
      "outputs": [
        {
          "output_type": "stream",
          "text": [
            "Latest date in main RFQ data set is 04-Jan-2021. Earliest date is 06-Jan-2020\n"
          ],
          "name": "stdout"
        }
      ]
    },
    {
      "cell_type": "code",
      "metadata": {
        "id": "YYQUAvW3kncz",
        "colab": {
          "base_uri": "https://localhost:8080/",
          "height": 542
        },
        "outputId": "45efa016-525a-4f22-9609-fdd9bfb60b56"
      },
      "source": [
        "mix = real[real['Customer'].isin(['W&W ASSET MANAGEMENT GMBH', 'MITSUBISHI UFJ KOKU AST MGT CO LTD'])]\r\n",
        "\r\n",
        "\r\n",
        "fig = px.bar(mix, x=\"WeekDay\", y=\"Quantity\", color=\"Side\", title=\"Day of Week <br>RFQ's from W&W ASSET MANAGEMENT\", facet_col=\"Customer\", facet_col_wrap=6,)\r\n",
        "fig.update_xaxes(categoryorder='array')\r\n",
        "fig.update_xaxes(categoryarray= ['Monday','Tuesday','Wednesday','Thursday', 'Friday', 'December'])\r\n",
        "#fig.update_yaxes(tick0=1, range=[0, 3500000000],dtick=500000000)\r\n",
        "fig.show()\r\n"
      ],
      "execution_count": null,
      "outputs": [
        {
          "output_type": "display_data",
          "data": {
            "text/html": [
              "<html>\n",
              "<head><meta charset=\"utf-8\" /></head>\n",
              "<body>\n",
              "    <div>\n",
              "            <script src=\"https://cdnjs.cloudflare.com/ajax/libs/mathjax/2.7.5/MathJax.js?config=TeX-AMS-MML_SVG\"></script><script type=\"text/javascript\">if (window.MathJax) {MathJax.Hub.Config({SVG: {font: \"STIX-Web\"}});}</script>\n",
              "                <script type=\"text/javascript\">window.PlotlyConfig = {MathJaxConfig: 'local'};</script>\n",
              "        <script src=\"https://cdn.plot.ly/plotly-latest.min.js\"></script>    \n",
              "            <div id=\"b46cd64c-8520-455a-b6ec-db5303874785\" class=\"plotly-graph-div\" style=\"height:525px; width:100%;\"></div>\n",
              "            <script type=\"text/javascript\">\n",
              "                \n",
              "                    window.PLOTLYENV=window.PLOTLYENV || {};\n",
              "                    \n",
              "                if (document.getElementById(\"b46cd64c-8520-455a-b6ec-db5303874785\")) {\n",
              "                    Plotly.newPlot(\n",
              "                        'b46cd64c-8520-455a-b6ec-db5303874785',\n",
              "                        [{\"alignmentgroup\": \"True\", \"hoverlabel\": {\"namelength\": 0}, \"hovertemplate\": \"Side=S<br>Customer=MITSUBISHI UFJ KOKU AST MGT CO LTD<br>WeekDay=%{x}<br>Quantity=%{y}\", \"legendgroup\": \"Side=S\", \"marker\": {\"color\": \"#636efa\"}, \"name\": \"Side=S\", \"offsetgroup\": \"Side=S\", \"orientation\": \"v\", \"showlegend\": true, \"textposition\": \"auto\", \"type\": \"bar\", \"x\": [\"Tuesday\", \"Tuesday\", \"Tuesday\", \"Tuesday\", \"Tuesday\", \"Tuesday\", \"Tuesday\", \"Tuesday\", \"Wednesday\", \"Wednesday\", \"Thursday\", \"Thursday\", \"Thursday\", \"Thursday\", \"Thursday\", \"Tuesday\", \"Tuesday\", \"Tuesday\", \"Thursday\", \"Thursday\", \"Tuesday\", \"Tuesday\", \"Tuesday\", \"Tuesday\", \"Tuesday\", \"Friday\", \"Friday\", \"Friday\", \"Friday\", \"Friday\", \"Friday\", \"Friday\", \"Monday\", \"Monday\", \"Thursday\", \"Thursday\", \"Thursday\", \"Thursday\", \"Thursday\", \"Thursday\", \"Thursday\", \"Thursday\", \"Tuesday\", \"Tuesday\", \"Tuesday\", \"Thursday\", \"Thursday\", \"Thursday\", \"Thursday\", \"Thursday\", \"Wednesday\", \"Wednesday\", \"Wednesday\", \"Monday\", \"Monday\", \"Monday\", \"Monday\", \"Monday\", \"Friday\", \"Monday\"], \"xaxis\": \"x\", \"y\": [10000000.0, 50000000.0, 40000000.0, 10000000.0, 30000000.0, 50000000.0, 30000000.0, 30000000.0, 30000000.0, 50000000.0, 20000000.0, 20000000.0, 20000000.0, 60000000.0, 60000000.0, 40000000.0, 30000000.0, 40000000.0, 20000000.0, 90000000.0, 75416.79, 1207411.34, 55613.74, 18000000.0, 10085957.41, 80000000.0, 70000000.0, 100000000.0, 5000000.0, 4858267.84, 4921221.21, 27000000.0, 10000000.0, 5000000.0, 35000000.0, 35000000.0, 40000000.0, 110000000.0, 120000000.0, 120000000.0, 140000000.0, 120000000.0, 14000000.0, 3000000.0, 19000000.0, 3706122.91, 400000.0, 1700000.0, 13000000.0, 25000000.0, 10000000.0, 20000000.0, 10000000.0, 50000000.0, 50000000.0, 50000000.0, 50000000.0, 100000000.0, 60000000.0, 75000000.0], \"yaxis\": \"y\"}, {\"alignmentgroup\": \"True\", \"hoverlabel\": {\"namelength\": 0}, \"hovertemplate\": \"Side=B<br>Customer=MITSUBISHI UFJ KOKU AST MGT CO LTD<br>WeekDay=%{x}<br>Quantity=%{y}\", \"legendgroup\": \"Side=B\", \"marker\": {\"color\": \"#EF553B\"}, \"name\": \"Side=B\", \"offsetgroup\": \"Side=B\", \"orientation\": \"v\", \"showlegend\": true, \"textposition\": \"auto\", \"type\": \"bar\", \"x\": [\"Wednesday\", \"Wednesday\", \"Wednesday\", \"Wednesday\", \"Wednesday\", \"Wednesday\", \"Wednesday\", \"Wednesday\", \"Wednesday\", \"Wednesday\", \"Wednesday\", \"Wednesday\", \"Wednesday\", \"Wednesday\", \"Wednesday\", \"Wednesday\", \"Wednesday\", \"Wednesday\", \"Wednesday\", \"Wednesday\", \"Wednesday\", \"Wednesday\", \"Wednesday\", \"Wednesday\", \"Wednesday\", \"Wednesday\", \"Wednesday\", \"Wednesday\", \"Wednesday\", \"Wednesday\", \"Wednesday\", \"Wednesday\", \"Wednesday\", \"Wednesday\", \"Wednesday\", \"Wednesday\", \"Wednesday\", \"Wednesday\", \"Wednesday\", \"Wednesday\", \"Wednesday\", \"Wednesday\", \"Wednesday\", \"Wednesday\", \"Wednesday\", \"Wednesday\", \"Wednesday\", \"Wednesday\", \"Wednesday\", \"Thursday\", \"Thursday\", \"Thursday\", \"Monday\", \"Monday\", \"Monday\", \"Friday\", \"Friday\", \"Friday\", \"Friday\", \"Friday\", \"Friday\", \"Friday\", \"Friday\", \"Friday\", \"Friday\", \"Friday\", \"Friday\", \"Friday\", \"Friday\", \"Friday\", \"Friday\", \"Friday\", \"Friday\", \"Friday\", \"Friday\", \"Friday\", \"Friday\", \"Friday\", \"Friday\", \"Friday\", \"Friday\", \"Friday\", \"Friday\", \"Friday\", \"Friday\", \"Friday\", \"Friday\", \"Friday\", \"Friday\", \"Friday\", \"Friday\", \"Friday\", \"Friday\", \"Friday\", \"Friday\", \"Friday\", \"Friday\", \"Friday\", \"Friday\", \"Friday\", \"Friday\", \"Friday\", \"Friday\", \"Friday\", \"Friday\", \"Friday\", \"Friday\", \"Friday\", \"Friday\", \"Friday\", \"Friday\", \"Friday\", \"Tuesday\", \"Tuesday\", \"Tuesday\", \"Wednesday\", \"Wednesday\", \"Wednesday\", \"Wednesday\", \"Wednesday\", \"Wednesday\", \"Wednesday\", \"Wednesday\", \"Wednesday\", \"Wednesday\", \"Wednesday\", \"Wednesday\", \"Wednesday\", \"Wednesday\", \"Wednesday\", \"Wednesday\", \"Wednesday\", \"Wednesday\", \"Wednesday\", \"Tuesday\", \"Tuesday\", \"Tuesday\", \"Tuesday\", \"Tuesday\", \"Tuesday\", \"Tuesday\", \"Tuesday\", \"Tuesday\", \"Tuesday\", \"Tuesday\", \"Tuesday\", \"Tuesday\", \"Tuesday\", \"Tuesday\", \"Tuesday\", \"Tuesday\", \"Tuesday\", \"Tuesday\", \"Tuesday\", \"Tuesday\", \"Tuesday\", \"Friday\", \"Friday\", \"Friday\", \"Friday\", \"Friday\", \"Friday\", \"Tuesday\", \"Tuesday\", \"Tuesday\", \"Tuesday\", \"Tuesday\", \"Tuesday\", \"Tuesday\", \"Tuesday\", \"Tuesday\", \"Tuesday\", \"Tuesday\", \"Tuesday\", \"Tuesday\", \"Tuesday\", \"Tuesday\", \"Tuesday\", \"Tuesday\", \"Tuesday\", \"Tuesday\", \"Tuesday\", \"Tuesday\", \"Tuesday\", \"Tuesday\", \"Tuesday\", \"Tuesday\", \"Tuesday\", \"Tuesday\", \"Tuesday\", \"Monday\", \"Monday\", \"Wednesday\", \"Wednesday\", \"Wednesday\", \"Wednesday\", \"Wednesday\", \"Wednesday\", \"Wednesday\", \"Wednesday\", \"Wednesday\", \"Wednesday\", \"Wednesday\", \"Wednesday\", \"Wednesday\", \"Wednesday\", \"Wednesday\", \"Wednesday\", \"Wednesday\", \"Wednesday\", \"Wednesday\", \"Wednesday\", \"Wednesday\", \"Wednesday\", \"Wednesday\", \"Wednesday\", \"Wednesday\", \"Wednesday\", \"Wednesday\", \"Wednesday\", \"Wednesday\", \"Wednesday\", \"Wednesday\", \"Wednesday\", \"Wednesday\", \"Wednesday\", \"Wednesday\", \"Wednesday\", \"Wednesday\", \"Wednesday\", \"Wednesday\", \"Wednesday\", \"Wednesday\", \"Wednesday\", \"Wednesday\", \"Wednesday\", \"Wednesday\", \"Wednesday\", \"Wednesday\", \"Wednesday\", \"Wednesday\", \"Wednesday\", \"Wednesday\", \"Wednesday\", \"Wednesday\", \"Thursday\", \"Thursday\", \"Thursday\", \"Thursday\", \"Tuesday\", \"Tuesday\", \"Tuesday\", \"Friday\", \"Friday\", \"Friday\", \"Friday\", \"Friday\", \"Friday\", \"Friday\", \"Friday\", \"Friday\", \"Friday\", \"Friday\", \"Friday\", \"Friday\", \"Friday\", \"Friday\", \"Friday\", \"Friday\", \"Friday\", \"Friday\", \"Friday\", \"Friday\", \"Friday\", \"Friday\", \"Friday\", \"Friday\", \"Friday\", \"Friday\", \"Friday\", \"Friday\", \"Friday\", \"Friday\", \"Friday\", \"Friday\", \"Friday\", \"Friday\", \"Friday\", \"Friday\", \"Friday\", \"Friday\", \"Friday\", \"Friday\", \"Friday\", \"Friday\", \"Friday\", \"Friday\", \"Thursday\", \"Thursday\", \"Thursday\", \"Thursday\", \"Thursday\", \"Wednesday\", \"Wednesday\", \"Wednesday\", \"Tuesday\", \"Tuesday\", \"Tuesday\", \"Tuesday\", \"Tuesday\", \"Tuesday\", \"Tuesday\", \"Tuesday\", \"Tuesday\", \"Tuesday\", \"Tuesday\", \"Tuesday\", \"Tuesday\", \"Tuesday\", \"Tuesday\", \"Tuesday\", \"Tuesday\", \"Tuesday\", \"Tuesday\", \"Tuesday\", \"Tuesday\", \"Monday\", \"Friday\", \"Friday\", \"Friday\", \"Friday\", \"Friday\", \"Friday\", \"Friday\", \"Friday\", \"Friday\", \"Friday\", \"Friday\", \"Friday\", \"Friday\", \"Friday\", \"Friday\", \"Friday\", \"Friday\", \"Friday\", \"Friday\", \"Friday\", \"Friday\", \"Friday\", \"Friday\", \"Friday\", \"Friday\", \"Friday\", \"Wednesday\", \"Wednesday\"], \"xaxis\": \"x\", \"y\": [3600000.0, 1200000.0, 4000000.0, 17500000.0, 11000000.0, 3200000.0, 5400000.0, 10100000.0, 3200000.0, 5100000.0, 4600000.0, 20000000.0, 15000000.0, 10500000.0, 9500000.0, 7300000.0, 17100000.0, 10400000.0, 21400000.0, 9800000.0, 64600000.0, 62100000.0, 10700000.0, 15000000.0, 8700000.0, 25800000.0, 6000000.0, 2000000.0, 29100000.0, 30000000.0, 5300000.0, 9000000.0, 5300000.0, 8500000.0, 40000000.0, 18400000.0, 17400000.0, 20000000.0, 15000000.0, 28500000.0, 17300000.0, 35400000.0, 16300000.0, 107500000.0, 103200000.0, 25000000.0, 27300000.0, 14400000.0, 42900000.0, 200000000.0, 160000000.0, 30000000.0, 70000000.0, 110000000.0, 180000000.0, 5400000.0, 1800000.0, 2700000.0, 26000000.0, 14400000.0, 9700000.0, 9500000.0, 17600000.0, 4700000.0, 8000000.0, 8200000.0, 26300000.0, 8900000.0, 17700000.0, 17900000.0, 25300000.0, 15400000.0, 33000000.0, 14900000.0, 84100000.0, 91600000.0, 17500000.0, 7800000.0, 27500000.0, 23200000.0, 38500000.0, 1800000.0, 600000.0, 900000.0, 8900000.0, 4900000.0, 3300000.0, 3300000.0, 3400000.0, 6000000.0, 1600000.0, 2700000.0, 2800000.0, 9000000.0, 3100000.0, 6100000.0, 6100000.0, 600000.0, 2500000.0, 8700000.0, 5300000.0, 11300000.0, 5100000.0, 28800000.0, 31400000.0, 6000000.0, 2700000.0, 2900000.0, 9400000.0, 7900000.0, 13200000.0, 3700000.0, 1200000.0, 10000000.0, 15000000.0, 2000000.0, 1000000.0, 1000000.0, 25000000.0, 15000000.0, 3500000.0, 6400000.0, 3000000.0, 25000000.0, 15000000.0, 3000000.0, 9300000.0, 5500000.0, 33600000.0, 33600000.0, 3100000.0, 10000000.0, 20000000.0, 10000000.0, 2700000.0, 600000.0, 1300000.0, 30000000.0, 20000000.0, 4100000.0, 3300000.0, 6300000.0, 2500000.0, 30000000.0, 20000000.0, 700000.0, 2600000.0, 9000000.0, 6100000.0, 39000000.0, 3900000.0, 3900000.0, 10500000.0, 20000000.0, 5600000.0, 5600000.0, 5000000.0, 9000000.0, 30000000.0, 87000000.0, 87000000.0, 87000000.0, 2900000.0, 1000000.0, 12500000.0, 6800000.0, 6500000.0, 5700000.0, 6200000.0, 9500000.0, 4800000.0, 9700000.0, 6800000.0, 11000000.0, 11300000.0, 800000.0, 4500000.0, 13800000.0, 8900000.0, 18900000.0, 8200000.0, 49800000.0, 49600000.0, 7800000.0, 4800000.0, 4600000.0, 16100000.0, 14700000.0, 20400000.0, 5400000.0, 4000000.0, 5000000.0, 2700000.0, 900000.0, 1400000.0, 11500000.0, 6200000.0, 5900000.0, 5200000.0, 5700000.0, 8800000.0, 2500000.0, 4400000.0, 8900000.0, 6200000.0, 10100000.0, 10300000.0, 700000.0, 4200000.0, 4900000.0, 18800000.0, 13400000.0, 14700000.0, 4200000.0, 12700000.0, 8200000.0, 17300000.0, 7500000.0, 50200000.0, 50000000.0, 7100000.0, 4400000.0, 2800000.0, 1000000.0, 1500000.0, 12200000.0, 6600000.0, 6300000.0, 9000000.0, 2500000.0, 4800000.0, 4600000.0, 9500000.0, 6600000.0, 800000.0, 4600000.0, 13100000.0, 8400000.0, 19000000.0, 8200000.0, 53200000.0, 52500000.0, 4600000.0, 19700000.0, 5500000.0, 100000000.0, 170000000.0, 210000000.0, 280000000.0, 10000000.0, 5000000.0, 10000000.0, 5100000.0, 1200000.0, 2500000.0, 19600000.0, 8600000.0, 7500000.0, 5900000.0, 5900000.0, 4200000.0, 9600000.0, 5400000.0, 17200000.0, 6600000.0, 1300000.0, 13900000.0, 18300000.0, 14800000.0, 32400000.0, 20300000.0, 58400000.0, 62200000.0, 7300000.0, 17200000.0, 18600000.0, 1800000.0, 600000.0, 1000000.0, 7300000.0, 4000000.0, 4200000.0, 2000000.0, 1600000.0, 3000000.0, 2800000.0, 5700000.0, 4000000.0, 8100000.0, 5200000.0, 15000000.0, 8600000.0, 25400000.0, 24200000.0, 3100000.0, 8300000.0, 7400000.0, 3000000.0, 10000000.0, 5000000.0, 18000000.0, 11000000.0, 13000000.0, 14000000.0, 14500000.0, 1900000.0, 1500000.0, 7000000.0, 5400000.0, 3800000.0, 1700000.0, 500000.0, 600000.0, 6400000.0, 7800000.0, 900000.0, 5000000.0, 30000000.0, 7000000.0, 24400000.0, 23300000.0, 3800000.0, 3000000.0, 8000000.0, 7100000.0, 4000000.0, 150000000.0, 6300000.0, 2100000.0, 3700000.0, 28400000.0, 15100000.0, 17000000.0, 7200000.0, 5700000.0, 13400000.0, 9100000.0, 9100000.0, 22000000.0, 15100000.0, 1900000.0, 27300000.0, 29900000.0, 18900000.0, 57100000.0, 24000000.0, 99000000.0, 93600000.0, 12400000.0, 70000000.0, 30100000.0, 65000000.0, 120000000.0, 180000000.0, 350000000.0], \"yaxis\": \"y\"}, {\"alignmentgroup\": \"True\", \"hoverlabel\": {\"namelength\": 0}, \"hovertemplate\": \"Side=B<br>Customer=W&W ASSET MANAGEMENT GMBH<br>WeekDay=%{x}<br>Quantity=%{y}\", \"legendgroup\": \"Side=B\", \"marker\": {\"color\": \"#EF553B\"}, \"name\": \"Side=B\", \"offsetgroup\": \"Side=B\", \"orientation\": \"v\", \"showlegend\": false, \"textposition\": \"auto\", \"type\": \"bar\", \"x\": [\"Wednesday\", \"Thursday\", \"Thursday\", \"Wednesday\", \"Wednesday\", \"Wednesday\", \"Wednesday\", \"Wednesday\", \"Wednesday\", \"Wednesday\", \"Wednesday\", \"Wednesday\", \"Wednesday\", \"Wednesday\", \"Wednesday\", \"Wednesday\", \"Wednesday\"], \"xaxis\": \"x2\", \"y\": [37000000.0, 126500000.0, 112300000.0, 37000000.0, 37500000.0, 106750000.0, 106750000.0, 77500000.0, 78500000.0, 100000000.0, 107000000.0, 127000000.0, 175000000.0, 179000000.0, 181500000.0, 190000000.0, 195000000.0], \"yaxis\": \"y2\"}],\n",
              "                        {\"annotations\": [{\"font\": {}, \"showarrow\": false, \"text\": \"Customer=MITSUBISHI UFJ KOKU AST MGT CO LTD\", \"x\": 0.245, \"xanchor\": \"center\", \"xref\": \"paper\", \"y\": 1.0, \"yanchor\": \"bottom\", \"yref\": \"paper\"}, {\"font\": {}, \"showarrow\": false, \"text\": \"Customer=W&W ASSET MANAGEMENT GMBH\", \"x\": 0.755, \"xanchor\": \"center\", \"xref\": \"paper\", \"y\": 1.0, \"yanchor\": \"bottom\", \"yref\": \"paper\"}], \"barmode\": \"relative\", \"legend\": {\"tracegroupgap\": 0}, \"template\": {\"data\": {\"bar\": [{\"error_x\": {\"color\": \"#2a3f5f\"}, \"error_y\": {\"color\": \"#2a3f5f\"}, \"marker\": {\"line\": {\"color\": \"#E5ECF6\", \"width\": 0.5}}, \"type\": \"bar\"}], \"barpolar\": [{\"marker\": {\"line\": {\"color\": \"#E5ECF6\", \"width\": 0.5}}, \"type\": \"barpolar\"}], \"carpet\": [{\"aaxis\": {\"endlinecolor\": \"#2a3f5f\", \"gridcolor\": \"white\", \"linecolor\": \"white\", \"minorgridcolor\": \"white\", \"startlinecolor\": \"#2a3f5f\"}, \"baxis\": {\"endlinecolor\": \"#2a3f5f\", \"gridcolor\": \"white\", \"linecolor\": \"white\", \"minorgridcolor\": \"white\", \"startlinecolor\": \"#2a3f5f\"}, \"type\": \"carpet\"}], \"choropleth\": [{\"colorbar\": {\"outlinewidth\": 0, \"ticks\": \"\"}, \"type\": \"choropleth\"}], \"contour\": [{\"colorbar\": {\"outlinewidth\": 0, \"ticks\": \"\"}, \"colorscale\": [[0.0, \"#0d0887\"], [0.1111111111111111, \"#46039f\"], [0.2222222222222222, \"#7201a8\"], [0.3333333333333333, \"#9c179e\"], [0.4444444444444444, \"#bd3786\"], [0.5555555555555556, \"#d8576b\"], [0.6666666666666666, \"#ed7953\"], [0.7777777777777778, \"#fb9f3a\"], [0.8888888888888888, \"#fdca26\"], [1.0, \"#f0f921\"]], \"type\": \"contour\"}], \"contourcarpet\": [{\"colorbar\": {\"outlinewidth\": 0, \"ticks\": \"\"}, \"type\": \"contourcarpet\"}], \"heatmap\": [{\"colorbar\": {\"outlinewidth\": 0, \"ticks\": \"\"}, \"colorscale\": [[0.0, \"#0d0887\"], [0.1111111111111111, \"#46039f\"], [0.2222222222222222, \"#7201a8\"], [0.3333333333333333, \"#9c179e\"], [0.4444444444444444, \"#bd3786\"], [0.5555555555555556, \"#d8576b\"], [0.6666666666666666, \"#ed7953\"], [0.7777777777777778, \"#fb9f3a\"], [0.8888888888888888, \"#fdca26\"], [1.0, \"#f0f921\"]], \"type\": \"heatmap\"}], \"heatmapgl\": [{\"colorbar\": {\"outlinewidth\": 0, \"ticks\": \"\"}, \"colorscale\": [[0.0, \"#0d0887\"], [0.1111111111111111, \"#46039f\"], [0.2222222222222222, \"#7201a8\"], [0.3333333333333333, \"#9c179e\"], [0.4444444444444444, \"#bd3786\"], [0.5555555555555556, \"#d8576b\"], [0.6666666666666666, \"#ed7953\"], [0.7777777777777778, \"#fb9f3a\"], [0.8888888888888888, \"#fdca26\"], [1.0, \"#f0f921\"]], \"type\": \"heatmapgl\"}], \"histogram\": [{\"marker\": {\"colorbar\": {\"outlinewidth\": 0, \"ticks\": \"\"}}, \"type\": \"histogram\"}], \"histogram2d\": [{\"colorbar\": {\"outlinewidth\": 0, \"ticks\": \"\"}, \"colorscale\": [[0.0, \"#0d0887\"], [0.1111111111111111, \"#46039f\"], [0.2222222222222222, \"#7201a8\"], [0.3333333333333333, \"#9c179e\"], [0.4444444444444444, \"#bd3786\"], [0.5555555555555556, \"#d8576b\"], [0.6666666666666666, \"#ed7953\"], [0.7777777777777778, \"#fb9f3a\"], [0.8888888888888888, \"#fdca26\"], [1.0, \"#f0f921\"]], \"type\": \"histogram2d\"}], \"histogram2dcontour\": [{\"colorbar\": {\"outlinewidth\": 0, \"ticks\": \"\"}, \"colorscale\": [[0.0, \"#0d0887\"], [0.1111111111111111, \"#46039f\"], [0.2222222222222222, \"#7201a8\"], [0.3333333333333333, \"#9c179e\"], [0.4444444444444444, \"#bd3786\"], [0.5555555555555556, \"#d8576b\"], [0.6666666666666666, \"#ed7953\"], [0.7777777777777778, \"#fb9f3a\"], [0.8888888888888888, \"#fdca26\"], [1.0, \"#f0f921\"]], \"type\": \"histogram2dcontour\"}], \"mesh3d\": [{\"colorbar\": {\"outlinewidth\": 0, \"ticks\": \"\"}, \"type\": \"mesh3d\"}], \"parcoords\": [{\"line\": {\"colorbar\": {\"outlinewidth\": 0, \"ticks\": \"\"}}, \"type\": \"parcoords\"}], \"pie\": [{\"automargin\": true, \"type\": \"pie\"}], \"scatter\": [{\"marker\": {\"colorbar\": {\"outlinewidth\": 0, \"ticks\": \"\"}}, \"type\": \"scatter\"}], \"scatter3d\": [{\"line\": {\"colorbar\": {\"outlinewidth\": 0, \"ticks\": \"\"}}, \"marker\": {\"colorbar\": {\"outlinewidth\": 0, \"ticks\": \"\"}}, \"type\": \"scatter3d\"}], \"scattercarpet\": [{\"marker\": {\"colorbar\": {\"outlinewidth\": 0, \"ticks\": \"\"}}, \"type\": \"scattercarpet\"}], \"scattergeo\": [{\"marker\": {\"colorbar\": {\"outlinewidth\": 0, \"ticks\": \"\"}}, \"type\": \"scattergeo\"}], \"scattergl\": [{\"marker\": {\"colorbar\": {\"outlinewidth\": 0, \"ticks\": \"\"}}, \"type\": \"scattergl\"}], \"scattermapbox\": [{\"marker\": {\"colorbar\": {\"outlinewidth\": 0, \"ticks\": \"\"}}, \"type\": \"scattermapbox\"}], \"scatterpolar\": [{\"marker\": {\"colorbar\": {\"outlinewidth\": 0, \"ticks\": \"\"}}, \"type\": \"scatterpolar\"}], \"scatterpolargl\": [{\"marker\": {\"colorbar\": {\"outlinewidth\": 0, \"ticks\": \"\"}}, \"type\": \"scatterpolargl\"}], \"scatterternary\": [{\"marker\": {\"colorbar\": {\"outlinewidth\": 0, \"ticks\": \"\"}}, \"type\": \"scatterternary\"}], \"surface\": [{\"colorbar\": {\"outlinewidth\": 0, \"ticks\": \"\"}, \"colorscale\": [[0.0, \"#0d0887\"], [0.1111111111111111, \"#46039f\"], [0.2222222222222222, \"#7201a8\"], [0.3333333333333333, \"#9c179e\"], [0.4444444444444444, \"#bd3786\"], [0.5555555555555556, \"#d8576b\"], [0.6666666666666666, \"#ed7953\"], [0.7777777777777778, \"#fb9f3a\"], [0.8888888888888888, \"#fdca26\"], [1.0, \"#f0f921\"]], \"type\": \"surface\"}], \"table\": [{\"cells\": {\"fill\": {\"color\": \"#EBF0F8\"}, \"line\": {\"color\": \"white\"}}, \"header\": {\"fill\": {\"color\": \"#C8D4E3\"}, \"line\": {\"color\": \"white\"}}, \"type\": \"table\"}]}, \"layout\": {\"annotationdefaults\": {\"arrowcolor\": \"#2a3f5f\", \"arrowhead\": 0, \"arrowwidth\": 1}, \"coloraxis\": {\"colorbar\": {\"outlinewidth\": 0, \"ticks\": \"\"}}, \"colorscale\": {\"diverging\": [[0, \"#8e0152\"], [0.1, \"#c51b7d\"], [0.2, \"#de77ae\"], [0.3, \"#f1b6da\"], [0.4, \"#fde0ef\"], [0.5, \"#f7f7f7\"], [0.6, \"#e6f5d0\"], [0.7, \"#b8e186\"], [0.8, \"#7fbc41\"], [0.9, \"#4d9221\"], [1, \"#276419\"]], \"sequential\": [[0.0, \"#0d0887\"], [0.1111111111111111, \"#46039f\"], [0.2222222222222222, \"#7201a8\"], [0.3333333333333333, \"#9c179e\"], [0.4444444444444444, \"#bd3786\"], [0.5555555555555556, \"#d8576b\"], [0.6666666666666666, \"#ed7953\"], [0.7777777777777778, \"#fb9f3a\"], [0.8888888888888888, \"#fdca26\"], [1.0, \"#f0f921\"]], \"sequentialminus\": [[0.0, \"#0d0887\"], [0.1111111111111111, \"#46039f\"], [0.2222222222222222, \"#7201a8\"], [0.3333333333333333, \"#9c179e\"], [0.4444444444444444, \"#bd3786\"], [0.5555555555555556, \"#d8576b\"], [0.6666666666666666, \"#ed7953\"], [0.7777777777777778, \"#fb9f3a\"], [0.8888888888888888, \"#fdca26\"], [1.0, \"#f0f921\"]]}, \"colorway\": [\"#636efa\", \"#EF553B\", \"#00cc96\", \"#ab63fa\", \"#FFA15A\", \"#19d3f3\", \"#FF6692\", \"#B6E880\", \"#FF97FF\", \"#FECB52\"], \"font\": {\"color\": \"#2a3f5f\"}, \"geo\": {\"bgcolor\": \"white\", \"lakecolor\": \"white\", \"landcolor\": \"#E5ECF6\", \"showlakes\": true, \"showland\": true, \"subunitcolor\": \"white\"}, \"hoverlabel\": {\"align\": \"left\"}, \"hovermode\": \"closest\", \"mapbox\": {\"style\": \"light\"}, \"paper_bgcolor\": \"white\", \"plot_bgcolor\": \"#E5ECF6\", \"polar\": {\"angularaxis\": {\"gridcolor\": \"white\", \"linecolor\": \"white\", \"ticks\": \"\"}, \"bgcolor\": \"#E5ECF6\", \"radialaxis\": {\"gridcolor\": \"white\", \"linecolor\": \"white\", \"ticks\": \"\"}}, \"scene\": {\"xaxis\": {\"backgroundcolor\": \"#E5ECF6\", \"gridcolor\": \"white\", \"gridwidth\": 2, \"linecolor\": \"white\", \"showbackground\": true, \"ticks\": \"\", \"zerolinecolor\": \"white\"}, \"yaxis\": {\"backgroundcolor\": \"#E5ECF6\", \"gridcolor\": \"white\", \"gridwidth\": 2, \"linecolor\": \"white\", \"showbackground\": true, \"ticks\": \"\", \"zerolinecolor\": \"white\"}, \"zaxis\": {\"backgroundcolor\": \"#E5ECF6\", \"gridcolor\": \"white\", \"gridwidth\": 2, \"linecolor\": \"white\", \"showbackground\": true, \"ticks\": \"\", \"zerolinecolor\": \"white\"}}, \"shapedefaults\": {\"line\": {\"color\": \"#2a3f5f\"}}, \"ternary\": {\"aaxis\": {\"gridcolor\": \"white\", \"linecolor\": \"white\", \"ticks\": \"\"}, \"baxis\": {\"gridcolor\": \"white\", \"linecolor\": \"white\", \"ticks\": \"\"}, \"bgcolor\": \"#E5ECF6\", \"caxis\": {\"gridcolor\": \"white\", \"linecolor\": \"white\", \"ticks\": \"\"}}, \"title\": {\"x\": 0.05}, \"xaxis\": {\"automargin\": true, \"gridcolor\": \"white\", \"linecolor\": \"white\", \"ticks\": \"\", \"title\": {\"standoff\": 15}, \"zerolinecolor\": \"white\", \"zerolinewidth\": 2}, \"yaxis\": {\"automargin\": true, \"gridcolor\": \"white\", \"linecolor\": \"white\", \"ticks\": \"\", \"title\": {\"standoff\": 15}, \"zerolinecolor\": \"white\", \"zerolinewidth\": 2}}}, \"title\": {\"text\": \"Day of Week <br>RFQ's from W&W ASSET MANAGEMENT\"}, \"xaxis\": {\"anchor\": \"y\", \"categoryarray\": [\"Monday\", \"Tuesday\", \"Wednesday\", \"Thursday\", \"Friday\", \"December\"], \"categoryorder\": \"array\", \"domain\": [0.0, 0.49], \"title\": {\"text\": \"WeekDay\"}}, \"xaxis2\": {\"anchor\": \"y2\", \"categoryarray\": [\"Monday\", \"Tuesday\", \"Wednesday\", \"Thursday\", \"Friday\", \"December\"], \"categoryorder\": \"array\", \"domain\": [0.51, 1.0], \"matches\": \"x\", \"title\": {\"text\": \"WeekDay\"}}, \"yaxis\": {\"anchor\": \"x\", \"domain\": [0.0, 1.0], \"title\": {\"text\": \"Quantity\"}}, \"yaxis2\": {\"anchor\": \"x2\", \"domain\": [0.0, 1.0], \"matches\": \"y\", \"showticklabels\": false}},\n",
              "                        {\"responsive\": true}\n",
              "                    ).then(function(){\n",
              "                            \n",
              "var gd = document.getElementById('b46cd64c-8520-455a-b6ec-db5303874785');\n",
              "var x = new MutationObserver(function (mutations, observer) {{\n",
              "        var display = window.getComputedStyle(gd).display;\n",
              "        if (!display || display === 'none') {{\n",
              "            console.log([gd, 'removed!']);\n",
              "            Plotly.purge(gd);\n",
              "            observer.disconnect();\n",
              "        }}\n",
              "}});\n",
              "\n",
              "// Listen for the removal of the full notebook cells\n",
              "var notebookContainer = gd.closest('#notebook-container');\n",
              "if (notebookContainer) {{\n",
              "    x.observe(notebookContainer, {childList: true});\n",
              "}}\n",
              "\n",
              "// Listen for the clearing of the current output cell\n",
              "var outputEl = gd.closest('.output');\n",
              "if (outputEl) {{\n",
              "    x.observe(outputEl, {childList: true});\n",
              "}}\n",
              "\n",
              "                        })\n",
              "                };\n",
              "                \n",
              "            </script>\n",
              "        </div>\n",
              "</body>\n",
              "</html>"
            ]
          },
          "metadata": {
            "tags": []
          }
        }
      ]
    }
  ]
}